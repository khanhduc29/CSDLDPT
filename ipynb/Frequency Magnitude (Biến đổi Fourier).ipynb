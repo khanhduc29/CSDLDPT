{
 "cells": [
  {
   "cell_type": "code",
   "execution_count": 8,
   "metadata": {},
   "outputs": [],
   "source": [
    "import os\n",
    "import matplotlib.pyplot as plt\n",
    "import librosa, librosa.display\n",
    "import IPython.display as ipd\n",
    "import numpy as np"
   ]
  },
  {
   "cell_type": "code",
   "execution_count": 9,
   "metadata": {},
   "outputs": [],
   "source": [
    "audio_dir = \"../static/Boat/boat-on-river1.wav\"\n",
    "\n",
    "# audio_dir = \"C:\\\\Users\\\\Admin\\\\Desktop\\\\CSDLDPT\\\\ThamKhao\\\\tool_instrument_voice_recognition-main\\\\tool_instrument_voice_recognition-main\\\\src\\\\File âm thanh\\\\1 máy sấy tóc\\\\may_say_toc_1.wav\"\n",
    "audio, sr = librosa.load(audio_dir, duration = 7)"
   ]
  },
  {
   "cell_type": "code",
   "execution_count": 10,
   "metadata": {},
   "outputs": [
    {
     "name": "stdout",
     "output_type": "stream",
     "text": [
      "154350\n"
     ]
    },
    {
     "data": {
      "text/plain": [
       "(array([0.00000000e+00, 1.42858068e-01, 2.85716137e-01, ...,\n",
       "        2.20497143e+04, 2.20498571e+04, 2.20500000e+04]),\n",
       " array([42.68431793, 25.37628831,  1.61992363, ..., 23.04268115,\n",
       "         1.61992363, 25.37628831]))"
      ]
     },
     "execution_count": 10,
     "metadata": {},
     "output_type": "execute_result"
    }
   ],
   "source": [
    "X = np.fft.fft(audio)\n",
    "X_mag = np.absolute(X)\n",
    "\n",
    "f = np.linspace(0, sr, len(X_mag))\n",
    "f_bins = int(len(X_mag))  \n",
    "\n",
    "#print(f)\n",
    "print(X_mag.size)\n",
    "#plt.plot(f[:f_bins], X_mag[:f_bins])\n",
    "f[:f_bins], X_mag[:f_bins]\n",
    "\n",
    "#print(f)\n",
    "#print(X_mag)\n",
    "#print(f.size)\n",
    "#print(f_bins)"
   ]
  },
  {
   "cell_type": "code",
   "execution_count": 7,
   "metadata": {},
   "outputs": [
    {
     "name": "stdout",
     "output_type": "stream",
     "text": [
      "[1427, 22435, 56778, 66479, 97572, 131915, 152923]\n",
      "[2134.970885005406, 23.7962102930019, 8.257310857800848, 4.6635096894491115, 8.257310857800883, 23.79621029300187, 2134.970885005406]\n"
     ]
    }
   ],
   "source": [
    "freq =[] #Freq là mảng ghi tần số có mức độ xuất hiện lớn nhất\n",
    "freq = [0 for i in range(7)]\n",
    "\n",
    "magnitude =[] #Magnitude là cụ thể mức độ xuất hiện là bao nhiêu\n",
    "magnitude = [0 for i in range(7)]\n",
    "\n",
    "position = 0\n",
    "max = 0\n",
    "pos = 0\n",
    "\n",
    "for i in range(0, len(X_mag)):        \n",
    "    if(X_mag[i] > max):\n",
    "        max = X_mag[i]\n",
    "        pos = i\n",
    "    if(i> 0):\n",
    "        if( (i % int(len(X_mag)/7)) == 0 and i != len(X_mag)-1):            \n",
    "            freq[position] = pos\n",
    "            magnitude[position] = max\n",
    "            #print('Position value at checkpoint: ' + str(position))\n",
    "            position += 1\n",
    "            max = 0\n",
    "        if(i == len(X_mag)-1):            \n",
    "            freq[position] = pos\n",
    "            magnitude[position] = max\n",
    "            #print('Position value at checkpoint: ' + str(position))  \n",
    "\n",
    "print(freq) \n",
    "print(magnitude)  "
   ]
  }
 ],
 "metadata": {
  "interpreter": {
   "hash": "49cb93f377a7abe7414b7b0f21fb3017538004a126cf690fb524202736b7fb92"
  },
  "kernelspec": {
   "display_name": "Python 3.9.7 ('base')",
   "language": "python",
   "name": "python3"
  },
  "language_info": {
   "codemirror_mode": {
    "name": "ipython",
    "version": 3
   },
   "file_extension": ".py",
   "mimetype": "text/x-python",
   "name": "python",
   "nbconvert_exporter": "python",
   "pygments_lexer": "ipython3",
   "version": "3.11.5"
  },
  "orig_nbformat": 4
 },
 "nbformat": 4,
 "nbformat_minor": 2
}
