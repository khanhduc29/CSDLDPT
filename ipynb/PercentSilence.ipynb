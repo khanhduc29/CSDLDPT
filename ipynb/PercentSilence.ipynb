{
 "cells": [
  {
   "cell_type": "code",
   "execution_count": 4,
   "metadata": {},
   "outputs": [],
   "source": [
    "import librosa.display\n",
    "import matplotlib.pyplot as plt"
   ]
  },
  {
   "cell_type": "code",
   "execution_count": 5,
   "metadata": {},
   "outputs": [],
   "source": [
    "def Find_Max(arr, f, l):\n",
    "    \"\"\"\n",
    "    :param arr: list of integer\n",
    "    :return: item max of list\n",
    "    \"\"\"\n",
    "    max = arr[f]\n",
    "\n",
    "    for i in range(f, l):\n",
    "        if max < arr[i]:\n",
    "            max = arr[i]\n",
    "\n",
    "    return max\n",
    "\n",
    "\n",
    "def Find_Min(arr, f, l):\n",
    "    \"\"\"\n",
    "    :param arr: list of integer\n",
    "    :return: item max of list\n",
    "    \"\"\"\n",
    "    min = arr[f]\n",
    "\n",
    "    for i in range(f, l):\n",
    "        if min > arr[i]:\n",
    "            min = arr[i]\n",
    "\n",
    "    return min\n",
    "\n",
    "\n",
    "def KhoangLang(arr, f, l):\n",
    "    max = Find_Max(arr, f, l)\n",
    "    min = Find_Min(arr, f, l)\n",
    "    tb = (max + min) / 2\n",
    "    nguong = tb * 0.3\n",
    "    dem = 0\n",
    "    for i in range(f, l):\n",
    "        if arr[i] > nguong:\n",
    "            dem = dem + 1\n",
    "\n",
    "    return 100-(dem / (l-f)) * 100"
   ]
  },
  {
   "cell_type": "code",
   "execution_count": 6,
   "metadata": {},
   "outputs": [
    {
     "name": "stdout",
     "output_type": "stream",
     "text": [
      "(20, 302)\n",
      "khoang lang theo 1 s:\n",
      "thoi gian:  0  =  48.13151927437642\n",
      "thoi gian:  1  =  48.66666666666667\n",
      "thoi gian:  2  =  47.43764172335601\n",
      "thoi gian:  3  =  44.64852607709751\n",
      "thoi gian:  4  =  49.75056689342403\n",
      "thoi gian:  5  =  47.21995464852608\n",
      "thoi gian:  6  =  48.689342403628125\n"
     ]
    },
    {
     "data": {
      "text/plain": [
       "<Figure size 500x500 with 0 Axes>"
      ]
     },
     "metadata": {},
     "output_type": "display_data"
    }
   ],
   "source": [
    "plt.figure(figsize=(5, 5))\n",
    "path = \"../static/Boat/boat-on-river1.wav\"\n",
    "# path = \"\"\n",
    "# path = \"C:\\\\Users\\\\Admin\\\\Desktop\\\\CSDLDPT\\\\ThamKhao\\\\tool_instrument_voice_recognition-main\\\\tool_instrument_voice_recognition-main\\\\src\\\\File âm thanh\\\\1 máy sấy tóc\\\\may_say_toc_1.wav\"\n",
    "y, sr = librosa.load(path)  # y la bien do theo thoi gian, sr tan so lay mau\n",
    "print(librosa.feature.mfcc(y=y, sr=sr).shape)\n",
    "print(\"khoang lang theo 1 s:\")\n",
    "for i in range(0, 7):\n",
    "   print(\"thoi gian: \", i, \" = \",KhoangLang(y, i*sr, (i+1)*sr))"
   ]
  }
 ],
 "metadata": {
  "interpreter": {
   "hash": "49cb93f377a7abe7414b7b0f21fb3017538004a126cf690fb524202736b7fb92"
  },
  "kernelspec": {
   "display_name": "Python 3.9.7 ('base')",
   "language": "python",
   "name": "python3"
  },
  "language_info": {
   "codemirror_mode": {
    "name": "ipython",
    "version": 3
   },
   "file_extension": ".py",
   "mimetype": "text/x-python",
   "name": "python",
   "nbconvert_exporter": "python",
   "pygments_lexer": "ipython3",
   "version": "3.11.5"
  },
  "orig_nbformat": 4
 },
 "nbformat": 4,
 "nbformat_minor": 2
}
